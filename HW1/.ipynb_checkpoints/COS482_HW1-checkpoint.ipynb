{
 "cells": [
  {
   "cell_type": "markdown",
   "id": "6f96faf8-99b3-4952-b12b-5aa0dab8e81f",
   "metadata": {},
   "source": [
    "# COS 482 HW1\n",
    "### Kaleb Hannan\n",
    "### 10/8/2024"
   ]
  },
  {
   "cell_type": "code",
   "execution_count": 189,
   "id": "171b6421-35f7-4a7c-b4cc-02236171fa6b",
   "metadata": {},
   "outputs": [],
   "source": [
    "import pandas as pd\n",
    "from bs4 import BeautifulSoup\n",
    "from selenium import webdriver\n",
    "from selenium.webdriver.chrome.service import Service\n",
    "from selenium.webdriver.common.by import By\n",
    "import time\n"
   ]
  },
  {
   "cell_type": "markdown",
   "id": "2257f097-6094-4e6f-a574-8df5732906d3",
   "metadata": {},
   "source": [
    "## Part 1 Web Scraping"
   ]
  },
  {
   "cell_type": "markdown",
   "id": "1e95ecb0-ebc9-4400-bff7-5be8010ae72b",
   "metadata": {},
   "source": [
    "When trying to get the title I was running into problems. When I started first I was also picking up some extra text when getting some of the titles using only the h3 tag with class_=\"gs_rt\" when converting to text some have extra tags like [PDF] so I had to find the tag that was nested inside of the h3 tag to get the title of the articles.\n",
    "\n",
    "To get the Citation information I also had a hard time because there were multiple \"a\" tags that it was in did not have a class name. So instead I found its sibling tag and then called the find_next_sibling() function on that tag to get the Citation information for the article.\n",
    "\n",
    "At first, I was trying to set up this code using Selenium to click the next button on all of the pages but I was having a hard time stopping the loop when I got to the last page in the search result.  \n",
    "\n",
    "Then I realized that I could just change the URL to get to the next page, by set it up this way I can make it stop when I get to the page and there are no articles on the page.\n"
   ]
  },
  {
   "cell_type": "code",
   "execution_count": 241,
   "id": "e35e8607-6198-4235-9184-2e8b9c8725f1",
   "metadata": {},
   "outputs": [],
   "source": [
    "#Set up selenium\n",
    "service = Service(executable_path=\"C:/Users/kaleb/COS-482/chromedriver.exe\")\n",
    "options = webdriver.ChromeOptions()\n",
    "options.add_argument('--ignore-certificate-errors')\n",
    "options.add_argument('--incognito')\n",
    "\n",
    "driver = webdriver.Chrome(service= service,options= options)\n",
    "driver.set_window_size(50, 600)\n",
    "driver.get(\"https://scholar.google.com/scholar?as_ylo=2022&q=machine+learning&hl=en&as_sdt=0,20\")\n",
    "\n",
    "#Solve CAPTCHA if Google has IP address flagged before moving on so Google does not think that you are a robot"
   ]
  },
  {
   "cell_type": "code",
   "execution_count": 243,
   "id": "501385d7-fef1-4f0e-873a-8ebebef9630e",
   "metadata": {},
   "outputs": [],
   "source": [
    "#Setup Dataframe\n",
    "df = pd.DataFrame({\n",
    "    'Title':pd.Series(dtype='str'),\n",
    "    'Publication_Info':pd.Series(dtype='str'),\n",
    "    'Cited_by':pd.Series(dtype='str')\n",
    "}) "
   ]
  },
  {
   "cell_type": "code",
   "execution_count": 245,
   "id": "369de337-cc71-4524-b8bd-48ef003266f8",
   "metadata": {},
   "outputs": [],
   "source": [
    "#Set up BeautifulSoup\n",
    "page = 0\n",
    "\n",
    "while True:\n",
    "    html = driver.page_source\n",
    "    soup = BeautifulSoup(html,\"lxml\")\n",
    "    all_articles = soup.find_all(\"div\", class_=\"gs_ri\")\n",
    "    time.sleep(2)\n",
    "    page+=1\n",
    "    for article in all_articles:\n",
    "        #Get data from the HTML\n",
    "        try:\n",
    "            title_tag = article.find(\"h3\", class_=\"gs_rt\")\n",
    "            \n",
    "            if title_tag.get_text(strip=False)[0] == \"[\":\n",
    "                title_text_array = title_tag.get_text(strip=False).split(\"] \")\n",
    "                title_text = title_text_array[len(title_text_array)-1]\n",
    "            else:\n",
    "                title_text =  title_tag.get_text(strip=False)\n",
    "            \n",
    "            authors_venue_year_tag = article.find(\"div\", class_=\"gs_a\")\n",
    "            \n",
    "            cited_by_tag = article.find(\"a\",class_=\"gs_or_cit gs_or_btn gs_nph\")\n",
    "            cite_tag = cited_by_tag.find_next_sibling(\"a\")\n",
    "            \n",
    "            #Make new row to add data to Data frame\n",
    "            new_data = [{'Title':title_text,\n",
    "                         'Publication_Info': authors_venue_year_tag.get_text(strip=False),\n",
    "                         'Cited_by': cite_tag.get_text(strip=False)}]\n",
    "            df = pd.concat([df,pd.DataFrame(new_data)],ignore_index=True)\n",
    "        \n",
    "        # If data point is Not avalible \n",
    "        except Exception as e:\n",
    "            print(f\"Error occurred: {e}\")\n",
    "            if title_tag == None:\n",
    "                 title_tag_text = None\n",
    "            else:\n",
    "                title_tag_text = title_tag.get_text(strip=False)\n",
    "                \n",
    "            if authors_venue_year_tag == None:\n",
    "                 authors_venue_year_tag_text = None\n",
    "            else:\n",
    "                 authors_venue_year_tag_text = authors_venue_year_tag.get_text(strip=False)\n",
    "                \n",
    "            if cite_tag == None:\n",
    "                cite_tag_text = None\n",
    "            else:\n",
    "                cite_tag_text = cite_tag.get_text(strip=False)\n",
    "                    \n",
    "                \n",
    "            new_data = [{'Title': title_tag_text,\n",
    "                 'Publication_Info': authors_venue_year_tag_text,\n",
    "                 'Cited_by': cite_tag_text}]\n",
    "            print(new_data)\n",
    "            print(\"\\n\"+str(page))\n",
    "            df = pd.concat([df,pd.DataFrame(new_data)],ignore_index=True)\n",
    "    \n",
    "    #brakes the loop if there are less then 10 articals on a page to stop program\n",
    "    if len(all_articles) < 10:\n",
    "        break\n",
    "    button = driver.find_element(By.CLASS_NAME, \"gs_btnPR\")\n",
    "    button.click()\n",
    "driver.close()\n",
    "    \n"
   ]
  },
  {
   "cell_type": "code",
   "execution_count": 201,
   "id": "b1151548-23fe-45a3-95ee-7c4fba8bf00f",
   "metadata": {},
   "outputs": [],
   "source": [
    "df.to_csv('ml_articles_info.csv')"
   ]
  },
  {
   "cell_type": "markdown",
   "id": "876a9a28-9f54-4699-9fb8-a62dc5aed247",
   "metadata": {},
   "source": [
    "## Part 2 Clean Data and Create Graphs"
   ]
  },
  {
   "cell_type": "code",
   "execution_count": 251,
   "id": "fe353860-ba4f-4aa2-87f4-7774f885827c",
   "metadata": {},
   "outputs": [],
   "source": [
    "#Create Data frame from data from csv\n",
    "df = pd.read_csv('ml_articles_info.csv')\n"
   ]
  },
  {
   "cell_type": "markdown",
   "id": "e90702da-08c3-4a6d-969c-80fd43da606b",
   "metadata": {},
   "source": [
    "### Part 2 A:"
   ]
  },
  {
   "cell_type": "code",
   "execution_count": 254,
   "id": "8e06aac7-94f4-4c24-9d62-95cdbe421d8a",
   "metadata": {},
   "outputs": [],
   "source": [
    "#Split Publisher info into authors, year, venue, publisher\n",
    "\n",
    "#Create new Data Frame with Publication_Info split up \n",
    "new_df = pd.DataFrame({\n",
    "    'Title': pd.Series(dtype='str'),\n",
    "    'Authors': pd.Series(dtype='str'),\n",
    "    'Year': pd.Series(dtype='int'), \n",
    "    'Venue': pd.Series(dtype='str'),\n",
    "    'Publisher': pd.Series(dtype='str'),\n",
    "    'Cited_by':  pd.Series(dtype='str')\n",
    "})\n",
    "\n",
    "#create a new df with publisher information split into 4 columns\n",
    "for i in range(0,996):\n",
    "    #get title and citation info from original df\n",
    "    title = df.Title[i]\n",
    "    Cited_by = df.Cited_by[i]\n",
    "\n",
    "    #get publication info from the original df\n",
    "    pupInfo = df.Publication_Info[i]\n",
    "    \n",
    "    #split in - to get authors and publishers separate \n",
    "    pupInfo = pupInfo.split('- ')\n",
    "    authors = pupInfo[0]\n",
    "    \n",
    "    #split the year and venue\n",
    "    year = pupInfo[1].split(', 20')\n",
    "\n",
    "    if len(year) < 2:\n",
    "        venue = None\n",
    "        year = year[0].strip()\n",
    "    else:\n",
    "        venue = year[0].strip()\n",
    "        year = \"20\"+str(year[1].strip())\n",
    "\n",
    "    if len(pupInfo) < 3:\n",
    "        publisher = None\n",
    "    else:\n",
    "        publisher = pupInfo[2].strip()\n",
    "        \n",
    "    #create new row of data \n",
    "    new_data = [{'Title': title.strip(),\n",
    "                 'Authors': authors.strip(),\n",
    "                 'Year': year,\n",
    "                 'Venue': venue,\n",
    "                 'Publisher': publisher,\n",
    "                 'Cited_by': Cited_by\n",
    "                }]\n",
    "    #add row to new table\n",
    "    new_df = pd.concat([new_df,pd.DataFrame(new_data)],ignore_index=True)\n",
    "    \n",
    "\n",
    "# Fix Citation information \n",
    "new_df.rename(columns={'Cited_by': 'Citation_Count'},inplace=True)\n",
    "\n",
    "# Change information to an int\n",
    "for i in range(0,996):\n",
    "    cite_num = new_df.Citation_Count[int(i)].split('y ')\n",
    "    new_df.loc[int(i),'Citation_Count'] = cite_num[1]\n",
    "\n",
    "# cast colunm to int \n",
    "new_df = new_df.astype({'Citation_Count': 'int64'})"
   ]
  },
  {
   "cell_type": "code",
   "execution_count": 258,
   "id": "a61d57ec-712a-4395-90b9-5138745ca4af",
   "metadata": {},
   "outputs": [],
   "source": [
    "# Create new colunm Avg_Citations_Per_Year using data from Citation_Count\n",
    "new_df['Avg_Citations_Per_Year'] = 0.0\n",
    "\n",
    "# Divide citation by 1,2, or 3 based on publication year\n",
    "for i in new_df.index:\n",
    "    citation_num = new_df.loc[i,'Citation_Count']\n",
    "    try:\n",
    "        year = int(new_df.loc[i,'Year'])\n",
    "    except Exception as e:\n",
    "        print(\"Index: \" + str(i))\n",
    "    if year == 2022:\n",
    "        new_df.loc[i,'Avg_Citations_Per_Year'] = round(citation_num / 3,2)\n",
    "        \n",
    "    elif year == 2023:\n",
    "        new_df.loc[i,'Avg_Citations_Per_Year'] = round(citation_num / 2,2)\n",
    "\n",
    "    elif year == 2024:\n",
    "        new_df.loc[i,'Avg_Citations_Per_Year'] = round(float(citation_num),2)\n",
    "    else:\n",
    "         raise Exception(\"Error not correct year at index: \" + str(i))\n",
    "\n",
    "\n",
    "    "
   ]
  },
  {
   "cell_type": "code",
   "execution_count": 264,
   "id": "abab6c57-cacc-4d28-8ca7-a0ca5e73a31a",
   "metadata": {},
   "outputs": [],
   "source": [
    "#save DF to CSV file\n",
    "new_df.to_csv('ml_articles_info-cleaned.csv')"
   ]
  },
  {
   "cell_type": "markdown",
   "id": "d260f3f8-0e41-4305-ba8d-8dcd5c953ad3",
   "metadata": {},
   "source": [
    "### Part 2 B:"
   ]
  },
  {
   "cell_type": "code",
   "execution_count": 267,
   "id": "d9e7c47d-386e-4d48-b665-09c6f8e1c9f2",
   "metadata": {},
   "outputs": [],
   "source": [
    "# get data from csv\n",
    "clean_df = pd.read_csv('ml_articles_info-cleaned.csv')"
   ]
  },
  {
   "cell_type": "code",
   "execution_count": 271,
   "id": "92f53ad8-817b-4677-8bd5-cf635ba4b8ed",
   "metadata": {},
   "outputs": [],
   "source": [
    "#Getting the title, authors, and year of all the articles published in 2023 or later with more than 300 citations\n",
    "\n",
    "#convert Year column to int \n",
    "clean_df = clean_df.astype({'Year': 'int64'})\n",
    "more_then_300 = clean_df[(clean_df['Year'] >= 2023) & (clean_df['Citation_Count'] > 300)]\n",
    "more_then_300 = more_then_300[['Title', 'Authors', 'Year']]"
   ]
  },
  {
   "cell_type": "code",
   "execution_count": 275,
   "id": "23b76a6e-af55-4898-a68c-01cdb3f99173",
   "metadata": {},
   "outputs": [
    {
     "data": {
      "text/html": [
       "<div>\n",
       "<style scoped>\n",
       "    .dataframe tbody tr th:only-of-type {\n",
       "        vertical-align: middle;\n",
       "    }\n",
       "\n",
       "    .dataframe tbody tr th {\n",
       "        vertical-align: top;\n",
       "    }\n",
       "\n",
       "    .dataframe thead th {\n",
       "        text-align: right;\n",
       "    }\n",
       "</style>\n",
       "<table border=\"1\" class=\"dataframe\">\n",
       "  <thead>\n",
       "    <tr style=\"text-align: right;\">\n",
       "      <th></th>\n",
       "      <th>Title</th>\n",
       "      <th>Authors</th>\n",
       "      <th>Year</th>\n",
       "    </tr>\n",
       "  </thead>\n",
       "  <tbody>\n",
       "    <tr>\n",
       "      <th>3</th>\n",
       "      <td>International conference on machine learning</td>\n",
       "      <td>W Li, C Wang, G Cheng, Q Song</td>\n",
       "      <td>2023</td>\n",
       "    </tr>\n",
       "    <tr>\n",
       "      <th>8</th>\n",
       "      <td>Probabilistic machine learning: Advanced topics</td>\n",
       "      <td>KP Murphy</td>\n",
       "      <td>2023</td>\n",
       "    </tr>\n",
       "    <tr>\n",
       "      <th>10</th>\n",
       "      <td>Human-in-the-loop machine learning: a state of...</td>\n",
       "      <td>E Mosqueira-Rey, E Hernández-Pereira…</td>\n",
       "      <td>2023</td>\n",
       "    </tr>\n",
       "    <tr>\n",
       "      <th>11</th>\n",
       "      <td>Machine learning operations (mlops): Overview,...</td>\n",
       "      <td>D Kreuzberger, N Kühl, S Hirschl</td>\n",
       "      <td>2023</td>\n",
       "    </tr>\n",
       "    <tr>\n",
       "      <th>27</th>\n",
       "      <td>Understanding of machine learning with deep le...</td>\n",
       "      <td>MM Taye</td>\n",
       "      <td>2023</td>\n",
       "    </tr>\n",
       "    <tr>\n",
       "      <th>31</th>\n",
       "      <td>Fairness in machine learning: A survey</td>\n",
       "      <td>S Caton, C Haas</td>\n",
       "      <td>2024</td>\n",
       "    </tr>\n",
       "    <tr>\n",
       "      <th>46</th>\n",
       "      <td>Coronavirus disease (COVID-19) cases analysis ...</td>\n",
       "      <td>AS Kwekha-Rashid, HN Abduljabbar, B Alhayani</td>\n",
       "      <td>2023</td>\n",
       "    </tr>\n",
       "    <tr>\n",
       "      <th>75</th>\n",
       "      <td>Artificial intelligence and machine learning i...</td>\n",
       "      <td>CJ Haug, JM Drazen</td>\n",
       "      <td>2023</td>\n",
       "    </tr>\n",
       "    <tr>\n",
       "      <th>81</th>\n",
       "      <td>Artificial intelligence, machine learning and ...</td>\n",
       "      <td>M Soori, B Arezoo, R Dastres</td>\n",
       "      <td>2023</td>\n",
       "    </tr>\n",
       "    <tr>\n",
       "      <th>247</th>\n",
       "      <td>Machine learning advances for time series fore...</td>\n",
       "      <td>RP Masini, MC Medeiros…</td>\n",
       "      <td>2023</td>\n",
       "    </tr>\n",
       "  </tbody>\n",
       "</table>\n",
       "</div>"
      ],
      "text/plain": [
       "                                                 Title  \\\n",
       "3         International conference on machine learning   \n",
       "8      Probabilistic machine learning: Advanced topics   \n",
       "10   Human-in-the-loop machine learning: a state of...   \n",
       "11   Machine learning operations (mlops): Overview,...   \n",
       "27   Understanding of machine learning with deep le...   \n",
       "31              Fairness in machine learning: A survey   \n",
       "46   Coronavirus disease (COVID-19) cases analysis ...   \n",
       "75   Artificial intelligence and machine learning i...   \n",
       "81   Artificial intelligence, machine learning and ...   \n",
       "247  Machine learning advances for time series fore...   \n",
       "\n",
       "                                          Authors  Year  \n",
       "3                   W Li, C Wang, G Cheng, Q Song  2023  \n",
       "8                                       KP Murphy  2023  \n",
       "10          E Mosqueira-Rey, E Hernández-Pereira…  2023  \n",
       "11               D Kreuzberger, N Kühl, S Hirschl  2023  \n",
       "27                                        MM Taye  2023  \n",
       "31                                S Caton, C Haas  2024  \n",
       "46   AS Kwekha-Rashid, HN Abduljabbar, B Alhayani  2023  \n",
       "75                             CJ Haug, JM Drazen  2023  \n",
       "81                   M Soori, B Arezoo, R Dastres  2023  \n",
       "247                       RP Masini, MC Medeiros…  2023  "
      ]
     },
     "execution_count": 275,
     "metadata": {},
     "output_type": "execute_result"
    }
   ],
   "source": [
    "more_then_300"
   ]
  },
  {
   "cell_type": "markdown",
   "id": "47f2b836-2788-4c0c-b9f9-1645ecce3f17",
   "metadata": {},
   "source": [
    "### Part 2 C:"
   ]
  },
  {
   "cell_type": "code",
   "execution_count": 278,
   "id": "5c3ac1c8-ecc4-4ffd-b362-ea2d47dc1988",
   "metadata": {},
   "outputs": [
    {
     "data": {
      "text/plain": [
       "<Axes: title={'center': 'Citations vs Average Citation per Year'}, xlabel='Citation_Count', ylabel='Avg_Citations_Per_Year'>"
      ]
     },
     "execution_count": 278,
     "metadata": {},
     "output_type": "execute_result"
    },
    {
     "data": {
      "image/png": "[encoded data removed]",
      "text/plain": [
       "<Figure size 640x480 with 1 Axes>"
      ]
     },
     "metadata": {},
     "output_type": "display_data"
    }
   ],
   "source": [
    "clean_df.plot(x = 'Citation_Count', y = 'Avg_Citations_Per_Year', kind='scatter',title='Citations vs Average Citation per Year')"
   ]
  },
  {
   "cell_type": "markdown",
   "id": "66b0dbfb-51fb-4c15-aefd-5ab0fed9b084",
   "metadata": {},
   "source": [
    "### Part 2 D:"
   ]
  },
  {
   "cell_type": "code",
   "execution_count": 281,
   "id": "5d3e0c6b-a74b-4bc2-b0e8-a1ea17be9b6b",
   "metadata": {},
   "outputs": [
    {
     "data": {
      "text/plain": [
       "<Axes: title={'center': 'Distribution of the Average Citations per Year'}, ylabel='Frequency'>"
      ]
     },
     "execution_count": 281,
     "metadata": {},
     "output_type": "execute_result"
    },
    {
     "data": {
      "image/png": "[encoded data removed]",
      "text/plain": [
       "<Figure size 640x480 with 1 Axes>"
      ]
     },
     "metadata": {},
     "output_type": "display_data"
    }
   ],
   "source": [
    "clean_df[['Avg_Citations_Per_Year']].plot(kind='hist',title=\"Distribution of the Average Citations per Year\",bins = 100)"
   ]
  },
  {
   "cell_type": "markdown",
   "id": "438555d7-99bf-4d85-b34d-136363a25e02",
   "metadata": {},
   "source": [
    "### Part 2 E:"
   ]
  },
  {
   "cell_type": "code",
   "execution_count": 284,
   "id": "65ac0883-f628-4ddc-b90d-aa624d719f57",
   "metadata": {},
   "outputs": [
    {
     "name": "stdout",
     "output_type": "stream",
     "text": [
      "Year\n",
      "2022    571\n",
      "2023    369\n",
      "2024     56\n",
      "Name: count, dtype: int64\n"
     ]
    }
   ],
   "source": [
    "num_of_articals_published_per_year = clean_df['Year'].value_counts()\n",
    "print(num_of_articals_published_per_year)"
   ]
  },
  {
   "cell_type": "code",
   "execution_count": 286,
   "id": "8b98b000-5094-448f-b542-4f462315a362",
   "metadata": {},
   "outputs": [
    {
     "data": {
      "text/plain": [
       "<Axes: title={'center': 'Number of Articals Published Each Year'}, xlabel='Year'>"
      ]
     },
     "execution_count": 286,
     "metadata": {},
     "output_type": "execute_result"
    },
    {
     "data": {
      "image/png": "[encoded data removed]",
      "text/plain": [
       "<Figure size 640x480 with 1 Axes>"
      ]
     },
     "metadata": {},
     "output_type": "display_data"
    }
   ],
   "source": [
    "clean_df['Year'].value_counts().plot(kind='bar', title='Number of Articals Published Each Year')"
   ]
  },
  {
   "cell_type": "markdown",
   "id": "ab2bfc10-d520-4637-9aae-00567f92eed0",
   "metadata": {},
   "source": [
    "### Part 2 F:"
   ]
  },
  {
   "cell_type": "code",
   "execution_count": null,
   "id": "cd714ad0-cf5e-4a51-8729-2255d61d853f",
   "metadata": {},
   "outputs": [],
   "source": [
    "mean_citation_count_per_year = df[['Citation_Count','Year']].groupby('Year').mean()"
   ]
  }
 ],
 "metadata": {
  "kernelspec": {
   "display_name": "Python 3 (ipykernel)",
   "language": "python",
   "name": "python3"
  },
  "language_info": {
   "codemirror_mode": {
    "name": "ipython",
    "version": 3
   },
   "file_extension": ".py",
   "mimetype": "text/x-python",
   "name": "python",
   "nbconvert_exporter": "python",
   "pygments_lexer": "ipython3",
   "version": "3.11.5"
  }
 },
 "nbformat": 4,
 "nbformat_minor": 5
}
