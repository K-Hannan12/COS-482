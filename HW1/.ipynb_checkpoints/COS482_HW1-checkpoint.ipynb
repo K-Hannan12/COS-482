{
 "cells": [
  {
   "cell_type": "markdown",
   "id": "6f96faf8-99b3-4952-b12b-5aa0dab8e81f",
   "metadata": {},
   "source": [
    "# COS 482 HW1\n",
    "### Kaleb Hannan\n",
    "### 10/8/2024"
   ]
  },
  {
   "cell_type": "code",
   "execution_count": 18,
   "id": "171b6421-35f7-4a7c-b4cc-02236171fa6b",
   "metadata": {},
   "outputs": [],
   "source": [
    "import pandas as pd\n",
    "from bs4 import BeautifulSoup\n",
    "from selenium import webdriver\n",
    "from selenium.webdriver.chrome.service import Service\n",
    "import requests\n"
   ]
  },
  {
   "cell_type": "markdown",
   "id": "2257f097-6094-4e6f-a574-8df5732906d3",
   "metadata": {},
   "source": [
    "## Part 1 Web Scraping"
   ]
  },
  {
   "cell_type": "code",
   "execution_count": 51,
   "id": "1856b33c-b1d9-4ab8-ad8d-3727158bea98",
   "metadata": {},
   "outputs": [],
   "source": [
    "#Set up selenium\n",
    "#I might not use this at all I think that I can minipulate the url\n",
    "service = Service(executable_path=\"C:/Users/kaleb/COS-482/chromedriver.exe\")\n",
    "options = webdriver.ChromeOptions()\n",
    "options.add_argument('--ignore-certificate-errors')\n",
    "options.add_argument('--incognito')\n",
    "\n",
    "driver = webdriver.Chrome(service= service,options= options)\n",
    "page = 0\n",
    "driver.get(\"https://scholar.google.com/scholar?start=\"+str(page)+\"&as_ylo=2022&q=machine+learning&hl=en&as_sdt=0,20\")"
   ]
  },
  {
   "cell_type": "code",
   "execution_count": 67,
   "id": "369de337-cc71-4524-b8bd-48ef003266f8",
   "metadata": {},
   "outputs": [
    {
     "name": "stdout",
     "output_type": "stream",
     "text": [
      "A guide to machine learning for biologists\n",
      "\n",
      "JG Greener, SM Kandathil, L Moffat… - Nature reviews Molecular …, 2022 - nature.com\n",
      "\n"
     ]
    },
    {
     "ename": "AttributeError",
     "evalue": "'NoneType' object has no attribute 'get_text'",
     "output_type": "error",
     "traceback": [
      "\u001b[1;31m---------------------------------------------------------------------------\u001b[0m",
      "\u001b[1;31mAttributeError\u001b[0m                            Traceback (most recent call last)",
      "Cell \u001b[1;32mIn[67], line 16\u001b[0m\n\u001b[0;32m     14\u001b[0m     \u001b[38;5;28mprint\u001b[39m(title\u001b[38;5;241m.\u001b[39mget_text(strip\u001b[38;5;241m=\u001b[39m\u001b[38;5;28;01mFalse\u001b[39;00m)\u001b[38;5;241m+\u001b[39m\u001b[38;5;124m\"\u001b[39m\u001b[38;5;130;01m\\n\u001b[39;00m\u001b[38;5;124m\"\u001b[39m)\n\u001b[0;32m     15\u001b[0m     \u001b[38;5;28mprint\u001b[39m(authors_venue_year\u001b[38;5;241m.\u001b[39mget_text(strip\u001b[38;5;241m=\u001b[39m\u001b[38;5;28;01mFalse\u001b[39;00m)\u001b[38;5;241m+\u001b[39m\u001b[38;5;124m\"\u001b[39m\u001b[38;5;130;01m\\n\u001b[39;00m\u001b[38;5;124m\"\u001b[39m)\n\u001b[1;32m---> 16\u001b[0m     \u001b[38;5;28mprint\u001b[39m(cited_by\u001b[38;5;241m.\u001b[39mget_text(strip\u001b[38;5;241m=\u001b[39m\u001b[38;5;28;01mFalse\u001b[39;00m)\u001b[38;5;241m+\u001b[39m\u001b[38;5;124m\"\u001b[39m\u001b[38;5;130;01m\\n\u001b[39;00m\u001b[38;5;130;01m\\n\u001b[39;00m\u001b[38;5;124m\"\u001b[39m)\n\u001b[0;32m     18\u001b[0m \u001b[38;5;28mprint\u001b[39m(soup\u001b[38;5;241m.\u001b[39mprettify())\n",
      "\u001b[1;31mAttributeError\u001b[0m: 'NoneType' object has no attribute 'get_text'"
     ]
    }
   ],
   "source": [
    "#Set up BeautifulSoup\n",
    "\n",
    "#Use this as an index for moving pages\n",
    "page = 0\n",
    "\n",
    "html = driver.page_source\n",
    "soup = BeautifulSoup(html,\"lxml\")\n",
    "all_articles = soup.find_all(\"div\", class_=\"gs_ri\")\n",
    "#print(all_articles)\n",
    "for article in all_articles:\n",
    "    title = article.find(\"h3\", class_=\"gs_rt\")\n",
    "    authors_venue_year = article.find(\"div\", class_=\"gs_a\")\n",
    "    cited_by = article.find(\"a\",class_=\"gs_or_cit gs_or_btn gs_nph\")\n",
    "    cite = cited_by.find_next_sibling(\"a\")\n",
    "    print(title.get_text(strip=False)+\"\\n\")\n",
    "    print(authors_venue_year.get_text(strip=False)+\"\\n\")\n",
    "    print(cite.get_text(strip=False)+\"\\n\\n\")\n",
    "\n",
    "print(soup.prettify())\n"
   ]
  },
  {
   "cell_type": "code",
   "execution_count": null,
   "id": "bf42de7e-9056-42af-8464-2d8b02993749",
   "metadata": {},
   "outputs": [],
   "source": []
  }
 ],
 "metadata": {
  "kernelspec": {
   "display_name": "Python 3 (ipykernel)",
   "language": "python",
   "name": "python3"
  },
  "language_info": {
   "codemirror_mode": {
    "name": "ipython",
    "version": 3
   },
   "file_extension": ".py",
   "mimetype": "text/x-python",
   "name": "python",
   "nbconvert_exporter": "python",
   "pygments_lexer": "ipython3",
   "version": "3.11.5"
  }
 },
 "nbformat": 4,
 "nbformat_minor": 5
}
