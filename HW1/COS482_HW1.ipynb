{
 "cells": [
  {
   "cell_type": "markdown",
   "id": "6f96faf8-99b3-4952-b12b-5aa0dab8e81f",
   "metadata": {},
   "source": [
    "# COS 482 HW1\n",
    "### Kaleb Hannan\n",
    "### 10/8/2024"
   ]
  },
  {
   "cell_type": "code",
   "execution_count": 2,
   "id": "171b6421-35f7-4a7c-b4cc-02236171fa6b",
   "metadata": {},
   "outputs": [],
   "source": [
    "import pandas as pd\n",
    "from bs4 import BeautifulSoup\n",
    "from selenium import webdriver\n",
    "from selenium.webdriver.chrome.service import Service\n",
    "import requests\n"
   ]
  },
  {
   "cell_type": "markdown",
   "id": "2257f097-6094-4e6f-a574-8df5732906d3",
   "metadata": {},
   "source": [
    "## Part 1 Web Scraping"
   ]
  },
  {
   "cell_type": "code",
   "execution_count": 5,
   "id": "1856b33c-b1d9-4ab8-ad8d-3727158bea98",
   "metadata": {},
   "outputs": [],
   "source": [
    "#Set up selenium\n",
    "#I might not use this at all I think that I can minipulate the url\n",
    "service = Service(executable_path=\"C:/Users/kaleb/COS-482/chromedriver.exe\")\n",
    "options = webdriver.ChromeOptions()\n",
    "options.add_argument('--ignore-certificate-errors')\n",
    "options.add_argument('--incognito')\n",
    "\n",
    "driver = webdriver.Chrome(service= service,options= options)\n",
    "page = 0\n",
    "driver.get(\"https://scholar.google.com/scholar?start=\"+str(page)+\"&as_ylo=2022&q=machine+learning&hl=en&as_sdt=0,20\")"
   ]
  },
  {
   "cell_type": "code",
   "execution_count": 19,
   "id": "369de337-cc71-4524-b8bd-48ef003266f8",
   "metadata": {},
   "outputs": [
    {
     "name": "stdout",
     "output_type": "stream",
     "text": [
      "<a data-clk=\"hl=en&amp;sa=T&amp;ct=res&amp;cd=0&amp;d=8772967020635429552&amp;ei=N678ZoH-K4Woy9YPtZ-o2Q4\" data-clk-atid=\"sBoxKwbXv3kJ\" href=\"https://www.nature.com/articles/s41580-021-00407-0\" id=\"sBoxKwbXv3kJ\">A guide to <b>machine learning </b>for biologists</a>\n",
      "A guide to machine learning for biologists\n",
      "\n",
      "JG Greener, SM Kandathil, L Moffat… - Nature reviews Molecular …, 2022 - nature.com\n",
      "\n",
      "Cited by 1103\n",
      "\n",
      "\n",
      "<a data-clk=\"hl=en&amp;sa=T&amp;oi=ggp&amp;ct=res&amp;cd=1&amp;d=5279893406703558640&amp;ei=N678ZoH-K4Woy9YPtZ-o2Q4\" data-clk-atid=\"8B9-ThTzRUkJ\" href=\"https://academic.oup.com/nsr/article-pdf/doi/10.1093/nsr/nwac123/45957092/nwac123.pdf\" id=\"8B9-ThTzRUkJ\">Open-environment <b>machine learning</b></a>\n",
      "Open-environment machine learning\n",
      "\n",
      "ZH Zhou - National Science Review, 2022 - academic.oup.com\n",
      "\n",
      "Cited by 123\n",
      "\n",
      "\n",
      "<a data-clk=\"hl=en&amp;sa=T&amp;ct=res&amp;cd=2&amp;d=14121343114188281721&amp;ei=N678ZoH-K4Woy9YPtZ-o2Q4\" data-clk-atid=\"edeZiL4W-cMJ\" href=\"https://papers.ssrn.com/sol3/papers.cfm?abstract_id=4458723\" id=\"edeZiL4W-cMJ\"><b>Machine learning </b>and deep <b>learning</b>: A review of methods and applications</a>\n",
      "Machine learning and deep learning: A review of methods and applications\n",
      "\n",
      "K Sharifani, M Amini - World Information Technology and …, 2023 - papers.ssrn.com\n",
      "\n",
      "Cited by 270\n",
      "\n",
      "\n",
      "<a data-clk=\"hl=en&amp;sa=T&amp;oi=ggp&amp;ct=res&amp;cd=3&amp;d=5147210213519346305&amp;ei=N678ZoH-K4Woy9YPtZ-o2Q4\" data-clk-atid=\"gUoVCWuQbkcJ\" href=\"https://par.nsf.gov/servlets/purl/10418406\" id=\"gUoVCWuQbkcJ\">International conference on <b>machine learning</b></a>\n",
      "International conference on machine learning\n",
      "\n",
      "W Li, C Wang, G Cheng, Q Song - Transactions on machine learning …, 2023 - par.nsf.gov\n",
      "\n",
      "Cited by 1563\n",
      "\n",
      "\n",
      "<a data-clk=\"hl=en&amp;sa=T&amp;ct=res&amp;cd=4&amp;d=9959230163394611186&amp;ei=N678ZoH-K4Woy9YPtZ-o2Q4\" data-clk-atid=\"8sd9PRFLNooJ\" href=\"https://books.google.com/books?hl=en&amp;lr=&amp;id=wrZNEAAAQBAJ&amp;oi=fnd&amp;pg=PR27&amp;dq=machine+learning&amp;ots=LaniRz8iNj&amp;sig=Rha27knKlU3eFy5fopB6N9zznjo\" id=\"8sd9PRFLNooJ\">Probabilistic <b>machine learning</b>: an introduction</a>\n",
      "Probabilistic machine learning: an introduction\n",
      "\n",
      "KP Murphy - 2022 - books.google.com\n",
      "\n",
      "Cited by 1018\n",
      "\n",
      "\n",
      "<a data-clk=\"hl=en&amp;sa=T&amp;ct=res&amp;cd=5&amp;d=460276925620564697&amp;ei=N678ZoH-K4Woy9YPtZ-o2Q4\" data-clk-atid=\"2TLs2Ww7YwYJ\" href=\"https://papers.ssrn.com/sol3/papers.cfm?abstract_id=4331902\" id=\"2TLs2Ww7YwYJ\">Agricultural databases evaluation with <b>machine learning </b>procedure</a>\n",
      "Agricultural databases evaluation with machine learning procedure\n",
      "\n",
      "M Amini, A Rahmani - … Journal of Engineering and Applied Science, 2023 - papers.ssrn.com\n",
      "\n",
      "Cited by 149\n",
      "\n",
      "\n",
      "<a data-clk=\"hl=en&amp;sa=T&amp;ct=res&amp;cd=6&amp;d=3005205329849907615&amp;ei=N678ZoH-K4Woy9YPtZ-o2Q4\" data-clk-atid=\"n3nQQlOitCkJ\" href=\"https://books.google.com/books?hl=en&amp;lr=&amp;id=1IBaEAAAQBAJ&amp;oi=fnd&amp;pg=PR8&amp;dq=machine+learning&amp;ots=XT8PEjnyRV&amp;sig=ANSI4x8JxSYC_MErx15SSGosw9Y\" id=\"n3nQQlOitCkJ\"><b>Machine learning</b>: the basics</a>\n",
      "Machine learning: the basics\n",
      "\n",
      "A Jung - 2022 - books.google.com\n",
      "\n",
      "Cited by 134\n",
      "\n",
      "\n",
      "<a data-clk=\"hl=en&amp;sa=T&amp;ct=res&amp;cd=7&amp;d=769004569164822547&amp;ei=N678ZoH-K4Woy9YPtZ-o2Q4\" data-clk-atid=\"E7i4z5QNrAoJ\" href=\"https://books.google.com/books?hl=en&amp;lr=&amp;id=8iycEAAAQBAJ&amp;oi=fnd&amp;pg=PR29&amp;dq=machine+learning&amp;ots=YYtNdoQzsY&amp;sig=E49xmc6uiheAHQx-zCifR8dcHcc\" id=\"E7i4z5QNrAoJ\">Probabilistic <b>machine learning</b>: Advanced topics</a>\n",
      "Probabilistic machine learning: Advanced topics\n",
      "\n",
      "KP Murphy - 2023 - books.google.com\n",
      "\n",
      "Cited by 343\n",
      "\n",
      "\n",
      "<a data-clk=\"hl=en&amp;sa=T&amp;oi=ggp&amp;ct=res&amp;cd=8&amp;d=6913795553612001883&amp;ei=N678ZoH-K4Woy9YPtZ-o2Q4\" data-clk-atid=\"W_K31my88l8J\" href=\"https://www.sciencedirect.com/science/article/pii/S2772985022000163\" id=\"W_K31my88l8J\">A review of the application of <b>machine learning </b>in water quality evaluation</a>\n",
      "A review of the application of machine learning in water quality evaluation\n",
      "\n",
      "M Zhu, J Wang, X Yang, Y Zhang, L Zhang… - Eco-Environment & …, 2022 - Elsevier\n",
      "\n",
      "Cited by 290\n",
      "\n",
      "\n",
      "<a data-clk=\"hl=en&amp;sa=T&amp;ct=res&amp;cd=9&amp;d=14635151049729248472&amp;ei=N678ZoH-K4Woy9YPtZ-o2Q4\" data-clk-atid=\"2AxM4VaAGssJ\" href=\"https://link.springer.com/article/10.1007/s10462-022-10246-w\" id=\"2AxM4VaAGssJ\">Human-in-the-loop <b>machine learning</b>: a state of the art</a>\n",
      "Human-in-the-loop machine learning: a state of the art\n",
      "\n",
      "E Mosqueira-Rey, E Hernández-Pereira… - Artificial Intelligence …, 2023 - Springer\n",
      "\n",
      "Cited by 336\n",
      "\n",
      "\n"
     ]
    }
   ],
   "source": [
    "#Set up BeautifulSoup\n",
    "html = driver.page_source\n",
    "soup = BeautifulSoup(html,\"lxml\")\n",
    "all_articles = soup.find_all(\"div\", class_=\"gs_ri\")\n",
    "#print(all_articles)\n",
    "for article in all_articles:\n",
    "    title = article.find(\"h3\", class_=\"gs_rt\")\n",
    "    title = title.find(\"a\")\n",
    "    authors_venue_year = article.find(\"div\", class_=\"gs_a\")\n",
    "    cited_by = article.find(\"a\",class_=\"gs_or_cit gs_or_btn gs_nph\")\n",
    "    cite = cited_by.find_next_sibling(\"a\")\n",
    "    print(title.get_text(strip=False)+\"\\n\")\n",
    "    print(authors_venue_year.get_text(strip=False)+\"\\n\")\n",
    "    print(cite.get_text(strip=False)+\"\\n\\n\")"
   ]
  },
  {
   "cell_type": "code",
   "execution_count": null,
   "id": "bf42de7e-9056-42af-8464-2d8b02993749",
   "metadata": {},
   "outputs": [],
   "source": []
  }
 ],
 "metadata": {
  "kernelspec": {
   "display_name": "Python 3 (ipykernel)",
   "language": "python",
   "name": "python3"
  },
  "language_info": {
   "codemirror_mode": {
    "name": "ipython",
    "version": 3
   },
   "file_extension": ".py",
   "mimetype": "text/x-python",
   "name": "python",
   "nbconvert_exporter": "python",
   "pygments_lexer": "ipython3",
   "version": "3.11.5"
  }
 },
 "nbformat": 4,
 "nbformat_minor": 5
}
