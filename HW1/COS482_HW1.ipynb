{
 "cells": [
  {
   "cell_type": "markdown",
   "id": "6f96faf8-99b3-4952-b12b-5aa0dab8e81f",
   "metadata": {},
   "source": [
    "# COS 482 HW1\n",
    "### Kaleb Hannan\n",
    "### 10/8/2024"
   ]
  },
  {
   "cell_type": "code",
   "execution_count": 28,
   "id": "171b6421-35f7-4a7c-b4cc-02236171fa6b",
   "metadata": {},
   "outputs": [],
   "source": [
    "import pandas as pd\n",
    "from bs4 import BeautifulSoup\n",
    "from selenium import webdriver\n",
    "from selenium.webdriver.chrome.service import Service\n",
    "import requests\n"
   ]
  },
  {
   "cell_type": "markdown",
   "id": "2257f097-6094-4e6f-a574-8df5732906d3",
   "metadata": {},
   "source": [
    "## Part 1 Web Scraping"
   ]
  },
  {
   "cell_type": "markdown",
   "id": "1e95ecb0-ebc9-4400-bff7-5be8010ae72b",
   "metadata": {},
   "source": [
    "When trying to get the title I was running into problems. When I started first I was also picking up some extra text when getting some of the title using only the h3 tag with class_=\"gs_rt\" when converting to text some have extra tags like [PDF] so I had to find the a tag that was nested in side of the h3 tag to get the title of the articals.\n",
    "\n",
    "To get the Citation information I also was having a hard time becaues there where multible \"a\" tag that it was in did not have a class name. So insted I fould the it's sibling tag and then called the find_next_sibling() function on that tag to get the Citation information for the artical."
   ]
  },
  {
   "cell_type": "code",
   "execution_count": 32,
   "id": "1856b33c-b1d9-4ab8-ad8d-3727158bea98",
   "metadata": {},
   "outputs": [],
   "source": [
    "#Set up selenium\n",
    "service = Service(executable_path=\"C:/Users/kaleb/COS-482/chromedriver.exe\")\n",
    "options = webdriver.ChromeOptions()\n",
    "options.add_argument('--ignore-certificate-errors')\n",
    "options.add_argument('--incognito')\n",
    "\n",
    "driver = webdriver.Chrome(service= service,options= options)\n",
    "page = 0\n",
    "driver.get(\"https://scholar.google.com/scholar?start=\"+str(page)+\"&as_ylo=2022&q=machine+learning&hl=en&as_sdt=0,20\")"
   ]
  },
  {
   "cell_type": "code",
   "execution_count": 34,
   "id": "369de337-cc71-4524-b8bd-48ef003266f8",
   "metadata": {},
   "outputs": [
    {
     "name": "stdout",
     "output_type": "stream",
     "text": [
      "A guide to machine learning for biologists\n",
      "\n",
      "JG Greener, SM Kandathil, L Moffat… - Nature reviews Molecular …, 2022 - nature.com\n",
      "\n",
      "Cited by 1103\n",
      "\n",
      "\n",
      "Open-environment machine learning\n",
      "\n",
      "ZH Zhou - National Science Review, 2022 - academic.oup.com\n",
      "\n",
      "Cited by 123\n",
      "\n",
      "\n",
      "Machine learning and deep learning: A review of methods and applications\n",
      "\n",
      "K Sharifani, M Amini - World Information Technology and …, 2023 - papers.ssrn.com\n",
      "\n",
      "Cited by 270\n",
      "\n",
      "\n",
      "International conference on machine learning\n",
      "\n",
      "W Li, C Wang, G Cheng, Q Song - Transactions on machine learning …, 2023 - par.nsf.gov\n",
      "\n",
      "Cited by 1563\n",
      "\n",
      "\n",
      "Probabilistic machine learning: an introduction\n",
      "\n",
      "KP Murphy - 2022 - books.google.com\n",
      "\n",
      "Cited by 1018\n",
      "\n",
      "\n",
      "Agricultural databases evaluation with machine learning procedure\n",
      "\n",
      "M Amini, A Rahmani - … Journal of Engineering and Applied Science, 2023 - papers.ssrn.com\n",
      "\n",
      "Cited by 149\n",
      "\n",
      "\n",
      "Machine learning: the basics\n",
      "\n",
      "A Jung - 2022 - books.google.com\n",
      "\n",
      "Cited by 134\n",
      "\n",
      "\n",
      "Probabilistic machine learning: Advanced topics\n",
      "\n",
      "KP Murphy - 2023 - books.google.com\n",
      "\n",
      "Cited by 343\n",
      "\n",
      "\n",
      "A review of the application of machine learning in water quality evaluation\n",
      "\n",
      "M Zhu, J Wang, X Yang, Y Zhang, L Zhang… - Eco-Environment & …, 2022 - Elsevier\n",
      "\n",
      "Cited by 290\n",
      "\n",
      "\n",
      "Human-in-the-loop machine learning: a state of the art\n",
      "\n",
      "E Mosqueira-Rey, E Hernández-Pereira… - Artificial Intelligence …, 2023 - Springer\n",
      "\n",
      "Cited by 336\n",
      "\n",
      "\n"
     ]
    }
   ],
   "source": [
    "#Set up BeautifulSoup\n",
    "html = driver.page_source\n",
    "soup = BeautifulSoup(html,\"lxml\")\n",
    "all_articles = soup.find_all(\"div\", class_=\"gs_ri\")\n",
    "#print(all_articles)\n",
    "for article in all_articles:\n",
    "    title_tag = article.find(\"h3\", class_=\"gs_rt\")\n",
    "    title_tag = title_tag.find(\"a\")\n",
    "    authors_venue_year_tag = article.find(\"div\", class_=\"gs_a\")\n",
    "    cited_by_tag = article.find(\"a\",class_=\"gs_or_cit gs_or_btn gs_nph\")\n",
    "    cite_tag = cited_by_tag.find_next_sibling(\"a\")\n",
    "    print(title_tag.get_text(strip=False)+\"\\n\")\n",
    "    print(authors_venue_year_tag.get_text(strip=False)+\"\\n\")\n",
    "    print(cite_tag.get_text(strip=False)+\"\\n\\n\")"
   ]
  },
  {
   "cell_type": "code",
   "execution_count": null,
   "id": "bf42de7e-9056-42af-8464-2d8b02993749",
   "metadata": {},
   "outputs": [],
   "source": []
  }
 ],
 "metadata": {
  "kernelspec": {
   "display_name": "Python 3 (ipykernel)",
   "language": "python",
   "name": "python3"
  },
  "language_info": {
   "codemirror_mode": {
    "name": "ipython",
    "version": 3
   },
   "file_extension": ".py",
   "mimetype": "text/x-python",
   "name": "python",
   "nbconvert_exporter": "python",
   "pygments_lexer": "ipython3",
   "version": "3.11.5"
  }
 },
 "nbformat": 4,
 "nbformat_minor": 5
}
